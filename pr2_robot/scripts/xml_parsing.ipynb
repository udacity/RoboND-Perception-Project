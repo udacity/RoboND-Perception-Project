{
 "cells": [
  {
   "cell_type": "code",
   "execution_count": 1,
   "metadata": {
    "collapsed": true
   },
   "outputs": [],
   "source": [
    "import xml.etree.ElementTree"
   ]
  },
  {
   "cell_type": "code",
   "execution_count": 2,
   "metadata": {},
   "outputs": [],
   "source": [
    "e = xml.etree.ElementTree.parse('../launch/pick_place_project.launch').getroot()"
   ]
  },
  {
   "cell_type": "code",
   "execution_count": 3,
   "metadata": {},
   "outputs": [
    {
     "name": "stdout",
     "output_type": "stream",
     "text": [
      "$(find pr2_robot)/launch/robot_description.launch\n",
      "$(find pr2_robot)/launch/robot_control.launch\n",
      "$(find pr2_moveit)/launch/move_group.launch\n",
      "$(find gazebo_ros)/launch/empty_world.launch\n"
     ]
    }
   ],
   "source": [
    "for atype in e.findall('include'):\n",
    "    print(atype.get('file'))"
   ]
  },
  {
   "cell_type": "code",
   "execution_count": 4,
   "metadata": {},
   "outputs": [
    {
     "name": "stdout",
     "output_type": "stream",
     "text": [
      "<Element 'launch' at 0x7f71983aef48>\n"
     ]
    }
   ],
   "source": [
    "print(e)"
   ]
  },
  {
   "cell_type": "code",
   "execution_count": 5,
   "metadata": {},
   "outputs": [
    {
     "name": "stdout",
     "output_type": "stream",
     "text": [
      "$(find pr2_robot)/worlds/test3.world\n",
      "true\n",
      "false\n",
      "true\n",
      "false\n",
      "false\n"
     ]
    }
   ],
   "source": [
    "values = []\n",
    "for atype in e.findall('.//include/arg'):\n",
    "    values.append(atype.get('value'))\n",
    "    print(atype.get('value'))"
   ]
  },
  {
   "cell_type": "code",
   "execution_count": 6,
   "metadata": {
    "collapsed": true
   },
   "outputs": [],
   "source": [
    "import re\n",
    "\n",
    "world_num_regex = re.compile(r'worlds/(.*).world')"
   ]
  },
  {
   "cell_type": "code",
   "execution_count": 7,
   "metadata": {},
   "outputs": [
    {
     "name": "stdout",
     "output_type": "stream",
     "text": [
      "test3\n"
     ]
    }
   ],
   "source": [
    "test_world = ''\n",
    "\n",
    "for value in values:\n",
    "    scene_num = world_num_regex.search(value)\n",
    "    if scene_num is not None:\n",
    "        test_world = scene_num.group(1)\n",
    "type(test_world)\n",
    "print(test_world)"
   ]
  },
  {
   "cell_type": "code",
   "execution_count": 8,
   "metadata": {},
   "outputs": [
    {
     "name": "stdout",
     "output_type": "stream",
     "text": [
      "<_sre.SRE_Match object; span=(0, 5), match='test3'>\n",
      "3\n"
     ]
    }
   ],
   "source": [
    "scene_num_regex = re.compile(r'\\w+(\\d+)')\n",
    "scene_num = scene_num_regex.search(test_world)\n",
    "print(scene_num)\n",
    "if scene_num is not None:\n",
    "    print(scene_num.group(1))"
   ]
  },
  {
   "cell_type": "code",
   "execution_count": 9,
   "metadata": {},
   "outputs": [
    {
     "name": "stdout",
     "output_type": "stream",
     "text": [
      "challenge\n"
     ]
    }
   ],
   "source": [
    "challange = '$(find pr2_robot)/worlds/challenge.world'\n",
    "challange_str = world_num_regex.search(challange)\n",
    "print(challange_str.group(1))\n",
    "challange_word = challange_str.group(1)"
   ]
  },
  {
   "cell_type": "code",
   "execution_count": 10,
   "metadata": {},
   "outputs": [
    {
     "name": "stdout",
     "output_type": "stream",
     "text": [
      "None\n"
     ]
    }
   ],
   "source": [
    "challange_num = scene_num_regex.search(challange_word)\n",
    "print(challange_num)\n",
    "assert(challange_num is None)"
   ]
  },
  {
   "cell_type": "code",
   "execution_count": 12,
   "metadata": {},
   "outputs": [
    {
     "name": "stdout",
     "output_type": "stream",
     "text": [
      "challenge\n"
     ]
    }
   ],
   "source": [
    "e = xml.etree.ElementTree.parse('../launch/pick_place_project.launch').getroot()\n",
    "values = []\n",
    "for atype in e.findall('.//include/arg'):\n",
    "    values.append(atype.get('value'))\n",
    "\n",
    "world_num_regex = re.compile(r'worlds/(.*).world')\n",
    "scene_num_regex = re.compile(r'\\w+(\\d+)')\n",
    "challange_regex = re.compile(r'(\\w+)')\n",
    "\n",
    "for value in values:\n",
    "    scene_num = world_num_regex.search(value)\n",
    "    if scene_num is not None:\n",
    "        num = scene_num_regex.search(scene_num.group(1))\n",
    "        if num is not None:\n",
    "            print(num.group(1))\n",
    "        else:\n",
    "            challange = challange_regex.search(scene_num.group(1))\n",
    "            print(challange.group(1))\n",
    "            "
   ]
  },
  {
   "cell_type": "code",
   "execution_count": 17,
   "metadata": {},
   "outputs": [
    {
     "name": "stdout",
     "output_type": "stream",
     "text": [
      "3\n"
     ]
    }
   ],
   "source": [
    "e = xml.etree.ElementTree.parse('../launch/pick_place_project.launch').getroot()\n",
    "\n",
    "world_num_regex = re.compile(r'worlds/(.*).world')\n",
    "scene_num_regex = re.compile(r'\\w+(\\d+)')\n",
    "challange_regex = re.compile(r'(\\w+)')\n",
    "\n",
    "for atype in e.findall('.//include/arg'):\n",
    "    scene_num = world_num_regex.search(atype.get('value'))\n",
    "    if scene_num is not None:\n",
    "        num = scene_num_regex.search(scene_num.group(1))\n",
    "        if num is not None:\n",
    "            print(num.group(1))\n",
    "        else:\n",
    "            challange = challange_regex.search(scene_num.group(1))\n",
    "            print(challange.group(1))\n",
    "        break"
   ]
  },
  {
   "cell_type": "code",
   "execution_count": null,
   "metadata": {
    "collapsed": true
   },
   "outputs": [],
   "source": []
  }
 ],
 "metadata": {
  "kernelspec": {
   "display_name": "Python 3",
   "language": "python",
   "name": "python3"
  },
  "language_info": {
   "codemirror_mode": {
    "name": "ipython",
    "version": 3
   },
   "file_extension": ".py",
   "mimetype": "text/x-python",
   "name": "python",
   "nbconvert_exporter": "python",
   "pygments_lexer": "ipython3",
   "version": "3.5.3"
  }
 },
 "nbformat": 4,
 "nbformat_minor": 2
}
