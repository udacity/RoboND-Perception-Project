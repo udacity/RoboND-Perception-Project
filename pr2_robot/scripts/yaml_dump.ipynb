{
 "cells": [
  {
   "cell_type": "code",
   "execution_count": 1,
   "metadata": {
    "collapsed": true
   },
   "outputs": [],
   "source": [
    "import yaml\n"
   ]
  },
  {
   "cell_type": "code",
   "execution_count": 9,
   "metadata": {
    "collapsed": true
   },
   "outputs": [],
   "source": [
    "dict_list0=[{'pick_pose': {'position': {'y': -0.019876055, 'x': 0.54480934, 'z': 0.67648405}, 'orientation': {'y': 0.0, 'x': 0.0, 'z': -90.0, 'w': 0.0}},\n",
    "            'object_name': 'soap',\n",
    "            'arm_name': 'right', \n",
    "            'test_scene_num': 1, \n",
    "            'place_pose': {'position': {'y': -0.71, 'x': 0, 'z': 0.605}, 'orientation': {'y': 0.0, 'x': 0.0, 'z': -90.0, 'w': 0.0}}\n",
    "           }]\n",
    "dict_list = [{'pick_pose': {'position': {'y': -0.23796232, 'x': 0.5438813, 'z': 0.70138276}, 'orientation': {'y': 0.0, 'x': 0.0, 'z': -90.0, 'w': 0.0}}, 'object_name': 'biscuits', 'arm_name': 'right', 'test_scene_num': 1, 'place_pose': {'position': {'y': -0.71, 'x': 0, 'z': 0.605}, 'orientation': {'y': 0.0, 'x': 0.0, 'z': -90.0, 'w': 0.0}}}, {'pick_pose': {'position': {'y': -0.020891948, 'x': 0.54699355, 'z': 0.67612159}, 'orientation': {'y': 0.0, 'x': 0.0, 'z': -90.0, 'w': 0.0}}, 'object_name': 'soap', 'arm_name': 'right', 'test_scene_num': 1, 'place_pose': {'position': {'y': -0.71, 'x': 0, 'z': 0.605}, 'orientation': {'y': 0.0, 'x': 0.0, 'z': -90.0, 'w': 0.0}}}]\n"
   ]
  },
  {
   "cell_type": "code",
   "execution_count": 10,
   "metadata": {
    "collapsed": true
   },
   "outputs": [],
   "source": [
    "# save the leader board\n",
    "yaml_filename= \"yml_output.yml\"\n",
    "data_dict = {\"object_list\": dict_list}\n",
    "with open(yaml_filename, 'w') as outfile:\n",
    "        outfile.write(yaml.dump(data_dict, default_flow_style=False))"
   ]
  },
  {
   "cell_type": "code",
   "execution_count": null,
   "metadata": {
    "collapsed": true
   },
   "outputs": [],
   "source": []
  }
 ],
 "metadata": {
  "kernelspec": {
   "display_name": "Python 3",
   "language": "python",
   "name": "python3"
  },
  "language_info": {
   "codemirror_mode": {
    "name": "ipython",
    "version": 3
   },
   "file_extension": ".py",
   "mimetype": "text/x-python",
   "name": "python",
   "nbconvert_exporter": "python",
   "pygments_lexer": "ipython3",
   "version": "3.5.2"
  }
 },
 "nbformat": 4,
 "nbformat_minor": 2
}
